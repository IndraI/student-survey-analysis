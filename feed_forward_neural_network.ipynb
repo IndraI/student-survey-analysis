{
 "cells": [
  {
   "cell_type": "markdown",
   "metadata": {},
   "source": [
    "# Simple feed forward neural network"
   ]
  },
  {
   "cell_type": "markdown",
   "metadata": {},
   "source": [
    "I this notebook I train a simple feed forward neural network on some feature setups. Catalan languages."
   ]
  },
  {
   "cell_type": "code",
   "execution_count": 1,
   "metadata": {},
   "outputs": [],
   "source": [
    "import get_train_test\n",
    "import feature_extraction"
   ]
  },
  {
   "cell_type": "code",
   "execution_count": 2,
   "metadata": {},
   "outputs": [
    {
     "name": "stderr",
     "output_type": "stream",
     "text": [
      "/Users/indra/anaconda/envs/icutestenv/lib/python3.6/site-packages/h5py/__init__.py:36: FutureWarning: Conversion of the second argument of issubdtype from `float` to `np.floating` is deprecated. In future, it will be treated as `np.float64 == np.dtype(float).type`.\n",
      "  from ._conv import register_converters as _register_converters\n",
      "Using TensorFlow backend.\n"
     ]
    }
   ],
   "source": [
    "import keras\n",
    "from keras.models import Sequential\n",
    "from keras.layers.core import Dense, Activation\n",
    "from keras.optimizers import SGD"
   ]
  },
  {
   "cell_type": "code",
   "execution_count": 3,
   "metadata": {},
   "outputs": [],
   "source": [
    "from sklearn.preprocessing import LabelBinarizer\n",
    "import numpy as np\n",
    "from sklearn.metrics import confusion_matrix"
   ]
  },
  {
   "cell_type": "markdown",
   "metadata": {},
   "source": [
    "#### BOW term frequencies + TF_IDF"
   ]
  },
  {
   "cell_type": "code",
   "execution_count": 4,
   "metadata": {},
   "outputs": [
    {
     "name": "stdout",
     "output_type": "stream",
     "text": [
      "train on 2191 instances, test on 731 instances\n"
     ]
    }
   ],
   "source": [
    "X_train,y_train,X_test,y_test = feature_extraction.get_BOW_train_test_features(language=\"cat\",k=1,repeat=True,tf_idf=True)"
   ]
  },
  {
   "cell_type": "code",
   "execution_count": 5,
   "metadata": {},
   "outputs": [],
   "source": [
    "encoder = LabelBinarizer()\n",
    "y_train = encoder.fit_transform(y_train)\n",
    "y_test = encoder.fit_transform(y_test)"
   ]
  },
  {
   "cell_type": "code",
   "execution_count": 8,
   "metadata": {
    "scrolled": true
   },
   "outputs": [
    {
     "name": "stdout",
     "output_type": "stream",
     "text": [
      "Epoch 1/20\n",
      "2191/2191 [==============================] - 2s 1ms/step - loss: 0.5694 - acc: 0.6997\n",
      "Epoch 2/20\n",
      "2191/2191 [==============================] - 2s 809us/step - loss: 0.4026 - acc: 0.8328\n",
      "Epoch 3/20\n",
      "2191/2191 [==============================] - 2s 806us/step - loss: 0.2142 - acc: 0.9083\n",
      "Epoch 4/20\n",
      "2191/2191 [==============================] - 2s 1000us/step - loss: 0.1102 - acc: 0.9487\n",
      "Epoch 5/20\n",
      "2191/2191 [==============================] - 2s 846us/step - loss: 0.0424 - acc: 0.9977\n",
      "Epoch 6/20\n",
      "2191/2191 [==============================] - 2s 855us/step - loss: 0.0112 - acc: 0.9988\n",
      "Epoch 7/20\n",
      "2191/2191 [==============================] - 2s 862us/step - loss: 0.0039 - acc: 1.0000\n",
      "Epoch 8/20\n",
      "2191/2191 [==============================] - 2s 815us/step - loss: 0.0019 - acc: 1.0000\n",
      "Epoch 9/20\n",
      "2191/2191 [==============================] - 2s 811us/step - loss: 0.0013 - acc: 1.0000\n",
      "Epoch 10/20\n",
      "2191/2191 [==============================] - 2s 825us/step - loss: 0.0011 - acc: 1.0000\n",
      "Epoch 11/20\n",
      "2191/2191 [==============================] - 2s 956us/step - loss: 7.3818e-04 - acc: 1.0000\n",
      "Epoch 12/20\n",
      "2191/2191 [==============================] - 2s 910us/step - loss: 5.9132e-04 - acc: 1.0000\n",
      "Epoch 13/20\n",
      "2191/2191 [==============================] - 2s 847us/step - loss: 4.8163e-04 - acc: 1.0000\n",
      "Epoch 14/20\n",
      "2191/2191 [==============================] - 2s 1ms/step - loss: 4.0141e-04 - acc: 1.0000\n",
      "Epoch 15/20\n",
      "2191/2191 [==============================] - 2s 923us/step - loss: 3.3588e-04 - acc: 1.0000\n",
      "Epoch 16/20\n",
      "2191/2191 [==============================] - 2s 1ms/step - loss: 2.8158e-04 - acc: 1.0000\n",
      "Epoch 17/20\n",
      "2191/2191 [==============================] - 2s 1ms/step - loss: 2.3980e-04 - acc: 1.0000\n",
      "Epoch 18/20\n",
      "2191/2191 [==============================] - 2s 1ms/step - loss: 2.0334e-04 - acc: 1.0000\n",
      "Epoch 19/20\n",
      "2191/2191 [==============================] - 2s 989us/step - loss: 1.7704e-04 - acc: 1.0000\n",
      "Epoch 20/20\n",
      "2191/2191 [==============================] - 2s 842us/step - loss: 1.5517e-04 - acc: 1.0000\n"
     ]
    },
    {
     "data": {
      "text/plain": [
       "<keras.callbacks.History at 0x1a1e444588>"
      ]
     },
     "execution_count": 8,
     "metadata": {},
     "output_type": "execute_result"
    }
   ],
   "source": [
    "k = X_train.shape[1]+1\n",
    "n = k*10**2\n",
    "\n",
    "model = Sequential()\n",
    "model.add(Dense(768, input_dim=4941, activation=\"relu\", kernel_initializer=\"uniform\"))\n",
    "model.add(Dense(384, activation=\"relu\", kernel_initializer=\"uniform\"))\n",
    "model.add(Dense(3))\n",
    "model.add(Activation(\"softmax\"))\n",
    "\n",
    "model.compile(loss=\"binary_crossentropy\", optimizer='Adam', metrics=['accuracy'])\n",
    "model.fit(X_train, y_train, epochs=20, batch_size=128,verbose=1)\n"
   ]
  },
  {
   "cell_type": "code",
   "execution_count": 96,
   "metadata": {},
   "outputs": [],
   "source": [
    "y_pred = model.predict_classes(X_test)"
   ]
  },
  {
   "cell_type": "code",
   "execution_count": 97,
   "metadata": {},
   "outputs": [],
   "source": [
    "test = []\n",
    "for i in y_test:\n",
    "    test.append(list(i).index(1))\n",
    "test = np.array(test)    \n"
   ]
  },
  {
   "cell_type": "code",
   "execution_count": 98,
   "metadata": {},
   "outputs": [
    {
     "data": {
      "text/plain": [
       "0.66484268125855"
      ]
     },
     "execution_count": 98,
     "metadata": {},
     "output_type": "execute_result"
    }
   ],
   "source": [
    "np.mean(test == y_pred)"
   ]
  },
  {
   "cell_type": "code",
   "execution_count": 99,
   "metadata": {},
   "outputs": [
    {
     "data": {
      "text/plain": [
       "array([[0.76441103, 0.14035088, 0.0952381 ],\n",
       "       [0.5045045 , 0.36936937, 0.12612613],\n",
       "       [0.28054299, 0.08597285, 0.63348416]])"
      ]
     },
     "execution_count": 99,
     "metadata": {},
     "output_type": "execute_result"
    }
   ],
   "source": [
    "C = confusion_matrix(test, y_pred)\n",
    "np.transpose( np.transpose(C) / C.astype(np.float).sum(axis=1) )"
   ]
  },
  {
   "cell_type": "markdown",
   "metadata": {},
   "source": [
    "#### BOW term frequencies + TF_IDF, lemmatized\n"
   ]
  },
  {
   "cell_type": "code",
   "execution_count": 100,
   "metadata": {},
   "outputs": [
    {
     "name": "stdout",
     "output_type": "stream",
     "text": [
      "train on 2191 instances, test on 731 instances\n"
     ]
    }
   ],
   "source": [
    "X_train,y_train,X_test,y_test = feature_extraction.get_LP_BOW_train_test_features(language=\"cat\",k=1,repeat=True,tf_idf=True)"
   ]
  },
  {
   "cell_type": "code",
   "execution_count": 102,
   "metadata": {},
   "outputs": [],
   "source": [
    "encoder = LabelBinarizer()\n",
    "y_train = encoder.fit_transform(y_train)\n",
    "y_test = encoder.fit_transform(y_test)"
   ]
  },
  {
   "cell_type": "code",
   "execution_count": 103,
   "metadata": {
    "scrolled": true
   },
   "outputs": [
    {
     "name": "stdout",
     "output_type": "stream",
     "text": [
      "Epoch 1/20\n",
      "2143/2143 [==============================] - 2s 1ms/step - loss: 0.5758 - acc: 0.6937\n",
      "Epoch 2/20\n",
      "2143/2143 [==============================] - 1s 663us/step - loss: 0.4397 - acc: 0.8062\n",
      "Epoch 3/20\n",
      "2143/2143 [==============================] - 1s 683us/step - loss: 0.2757 - acc: 0.8833\n",
      "Epoch 4/20\n",
      "2143/2143 [==============================] - 1s 666us/step - loss: 0.1630 - acc: 0.9216\n",
      "Epoch 5/20\n",
      "2143/2143 [==============================] - 1s 665us/step - loss: 0.0912 - acc: 0.9812\n",
      "Epoch 6/20\n",
      "2143/2143 [==============================] - 1s 652us/step - loss: 0.0446 - acc: 0.9911\n",
      "Epoch 7/20\n",
      "2143/2143 [==============================] - 1s 636us/step - loss: 0.0248 - acc: 0.9924\n",
      "Epoch 8/20\n",
      "2143/2143 [==============================] - 1s 678us/step - loss: 0.0215 - acc: 0.9927\n",
      "Epoch 9/20\n",
      "2143/2143 [==============================] - 2s 731us/step - loss: 0.0166 - acc: 0.9930\n",
      "Epoch 10/20\n",
      "2143/2143 [==============================] - 1s 688us/step - loss: 0.0178 - acc: 0.9932\n",
      "Epoch 11/20\n",
      "2143/2143 [==============================] - 2s 778us/step - loss: 0.0154 - acc: 0.9941\n",
      "Epoch 12/20\n",
      "2143/2143 [==============================] - 2s 821us/step - loss: 0.0178 - acc: 0.9936\n",
      "Epoch 13/20\n",
      "2143/2143 [==============================] - 2s 906us/step - loss: 0.0175 - acc: 0.9938\n",
      "Epoch 14/20\n",
      "2143/2143 [==============================] - 2s 722us/step - loss: 0.0147 - acc: 0.9933\n",
      "Epoch 15/20\n",
      "2143/2143 [==============================] - 1s 671us/step - loss: 0.0143 - acc: 0.9936\n",
      "Epoch 16/20\n",
      "2143/2143 [==============================] - 1s 663us/step - loss: 0.0136 - acc: 0.9942\n",
      "Epoch 17/20\n",
      "2143/2143 [==============================] - 2s 815us/step - loss: 0.0139 - acc: 0.9932\n",
      "Epoch 18/20\n",
      "2143/2143 [==============================] - 2s 806us/step - loss: 0.0134 - acc: 0.9932\n",
      "Epoch 19/20\n",
      "2143/2143 [==============================] - 2s 743us/step - loss: 0.0142 - acc: 0.9936\n",
      "Epoch 20/20\n",
      "2143/2143 [==============================] - 2s 741us/step - loss: 0.0145 - acc: 0.9933\n"
     ]
    },
    {
     "data": {
      "text/plain": [
       "<keras.callbacks.History at 0x1be3612208>"
      ]
     },
     "execution_count": 103,
     "metadata": {},
     "output_type": "execute_result"
    }
   ],
   "source": [
    "k = X_train.shape[1]+1\n",
    "n = k*10**2\n",
    "\n",
    "model = Sequential()\n",
    "model.add(Dense(768, input_dim=3330, activation=\"relu\", kernel_initializer=\"uniform\"))\n",
    "model.add(Dense(384, activation=\"relu\", kernel_initializer=\"uniform\"))\n",
    "model.add(Dense(3))\n",
    "model.add(Activation(\"softmax\"))\n",
    "\n",
    "model.compile(loss=\"binary_crossentropy\", optimizer='Adam', metrics=['accuracy'])\n",
    "model.fit(X_train, y_train, epochs=20, batch_size=128,verbose=1)"
   ]
  },
  {
   "cell_type": "code",
   "execution_count": 104,
   "metadata": {},
   "outputs": [
    {
     "data": {
      "text/plain": [
       "0.6965034965034965"
      ]
     },
     "execution_count": 104,
     "metadata": {},
     "output_type": "execute_result"
    }
   ],
   "source": [
    "y_pred = model.predict_classes(X_test)\n",
    "test = []\n",
    "for i in y_test:\n",
    "    test.append(list(i).index(1))\n",
    "test = np.array(test)    \n",
    "np.mean(test == y_pred)"
   ]
  },
  {
   "cell_type": "code",
   "execution_count": 105,
   "metadata": {},
   "outputs": [
    {
     "data": {
      "text/plain": [
       "array([[0.83462532, 0.05684755, 0.10852713],\n",
       "       [0.56074766, 0.29906542, 0.14018692],\n",
       "       [0.26696833, 0.08597285, 0.64705882]])"
      ]
     },
     "execution_count": 105,
     "metadata": {},
     "output_type": "execute_result"
    }
   ],
   "source": [
    "C = confusion_matrix(test, y_pred)\n",
    "np.transpose( np.transpose(C) / C.astype(np.float).sum(axis=1) )"
   ]
  },
  {
   "cell_type": "markdown",
   "metadata": {},
   "source": [
    "#### Lemmatized BOW term frequencies + TF_IDF, 2-grams TF-IDF, 3-grams TF-IDF"
   ]
  },
  {
   "cell_type": "code",
   "execution_count": 107,
   "metadata": {},
   "outputs": [
    {
     "name": "stdout",
     "output_type": "stream",
     "text": [
      "train on 2191 instances, test on 731 instances\n",
      "train on 2191 instances, test on 731 instances\n",
      "train on 2191 instances, test on 731 instances\n"
     ]
    }
   ],
   "source": [
    "X_train1,y_train,X_test1,y_test = feature_extraction.get_LP_BOW_train_test_features(language=\"cat\",k=1,repeat=True,tf_idf=True)\n",
    "X_train2,y_train,X_test2,y_test = feature_extraction.get_LP_ngram_train_test_features(language=\"cat\",k=1,n=2,tf_idf=True)\n",
    "X_train3,y_train,X_test3,y_test = feature_extraction.get_LP_ngram_train_test_features(language=\"cat\",k=1,n=3,tf_idf=True)\n",
    "X_train=np.concatenate((X_train1,X_train2,X_train3),axis=1)\n",
    "X_test=np.concatenate((X_test1,X_test2,X_test3),axis=1)"
   ]
  },
  {
   "cell_type": "code",
   "execution_count": 108,
   "metadata": {},
   "outputs": [],
   "source": [
    "encoder = LabelBinarizer()\n",
    "y_train = encoder.fit_transform(y_train)\n",
    "y_test = encoder.fit_transform(y_test)"
   ]
  },
  {
   "cell_type": "code",
   "execution_count": 110,
   "metadata": {
    "scrolled": true
   },
   "outputs": [
    {
     "name": "stdout",
     "output_type": "stream",
     "text": [
      "Epoch 1/20\n",
      "2143/2143 [==============================] - 24s 11ms/step - loss: 0.5710 - acc: 0.7038\n",
      "Epoch 2/20\n",
      "2143/2143 [==============================] - 21s 10ms/step - loss: 0.3145 - acc: 0.8698\n",
      "Epoch 3/20\n",
      "2143/2143 [==============================] - 22s 10ms/step - loss: 0.1272 - acc: 0.9375\n",
      "Epoch 4/20\n",
      "2143/2143 [==============================] - 18s 8ms/step - loss: 0.0640 - acc: 0.9891\n",
      "Epoch 5/20\n",
      "2143/2143 [==============================] - 16s 8ms/step - loss: 0.0251 - acc: 0.9932\n",
      "Epoch 6/20\n",
      "2143/2143 [==============================] - 16s 8ms/step - loss: 0.0189 - acc: 0.9938\n",
      "Epoch 7/20\n",
      "2143/2143 [==============================] - 17s 8ms/step - loss: 0.0179 - acc: 0.9941\n",
      "Epoch 8/20\n",
      "2143/2143 [==============================] - 16s 8ms/step - loss: 0.0165 - acc: 0.9935\n",
      "Epoch 9/20\n",
      "2143/2143 [==============================] - 18s 8ms/step - loss: 0.0172 - acc: 0.9944\n",
      "Epoch 10/20\n",
      "2143/2143 [==============================] - 20s 9ms/step - loss: 0.0120 - acc: 0.9946\n",
      "Epoch 11/20\n",
      "2143/2143 [==============================] - 20s 9ms/step - loss: 0.0125 - acc: 0.9939\n",
      "Epoch 12/20\n",
      "2143/2143 [==============================] - 16s 8ms/step - loss: 0.0121 - acc: 0.9942\n",
      "Epoch 13/20\n",
      "2143/2143 [==============================] - 16s 7ms/step - loss: 0.0117 - acc: 0.9936\n",
      "Epoch 14/20\n",
      "2143/2143 [==============================] - 16s 8ms/step - loss: 0.0111 - acc: 0.9939\n",
      "Epoch 15/20\n",
      "2143/2143 [==============================] - 19s 9ms/step - loss: 0.0118 - acc: 0.9941\n",
      "Epoch 16/20\n",
      "2143/2143 [==============================] - 20s 10ms/step - loss: 0.0113 - acc: 0.9936\n",
      "Epoch 17/20\n",
      "2143/2143 [==============================] - 20s 10ms/step - loss: 0.0102 - acc: 0.9941\n",
      "Epoch 18/20\n",
      "2143/2143 [==============================] - 21s 10ms/step - loss: 0.0107 - acc: 0.9938\n",
      "Epoch 19/20\n",
      "2143/2143 [==============================] - 17s 8ms/step - loss: 0.0110 - acc: 0.9941\n",
      "Epoch 20/20\n",
      "2143/2143 [==============================] - 17s 8ms/step - loss: 0.0102 - acc: 0.9930\n"
     ]
    },
    {
     "data": {
      "text/plain": [
       "<keras.callbacks.History at 0x1a5fb028d0>"
      ]
     },
     "execution_count": 110,
     "metadata": {},
     "output_type": "execute_result"
    }
   ],
   "source": [
    "k = X_train.shape[1]+1\n",
    "n = k*10**2\n",
    "\n",
    "model = Sequential()\n",
    "model.add(Dense(768, input_dim=51465, activation=\"relu\", kernel_initializer=\"uniform\"))\n",
    "model.add(Dense(384, activation=\"relu\", kernel_initializer=\"uniform\"))\n",
    "model.add(Dense(3))\n",
    "model.add(Activation(\"softmax\"))\n",
    "\n",
    "model.compile(loss=\"binary_crossentropy\", optimizer='Adam', metrics=['accuracy'])\n",
    "model.fit(X_train, y_train, epochs=20, batch_size=128,verbose=1)"
   ]
  },
  {
   "cell_type": "code",
   "execution_count": 111,
   "metadata": {},
   "outputs": [
    {
     "data": {
      "text/plain": [
       "0.7104895104895105"
      ]
     },
     "execution_count": 111,
     "metadata": {},
     "output_type": "execute_result"
    }
   ],
   "source": [
    "y_pred = model.predict_classes(X_test)\n",
    "test = []\n",
    "for i in y_test:\n",
    "    test.append(list(i).index(1))\n",
    "test = np.array(test)    \n",
    "np.mean(test == y_pred)"
   ]
  },
  {
   "cell_type": "code",
   "execution_count": 112,
   "metadata": {},
   "outputs": [
    {
     "data": {
      "text/plain": [
       "array([[0.84237726, 0.08527132, 0.07235142],\n",
       "       [0.45794393, 0.36448598, 0.17757009],\n",
       "       [0.2760181 , 0.07692308, 0.64705882]])"
      ]
     },
     "execution_count": 112,
     "metadata": {},
     "output_type": "execute_result"
    }
   ],
   "source": [
    "C = confusion_matrix(test, y_pred)\n",
    "np.transpose( np.transpose(C) / C.astype(np.float).sum(axis=1) )"
   ]
  },
  {
   "cell_type": "code",
   "execution_count": null,
   "metadata": {},
   "outputs": [],
   "source": []
  }
 ],
 "metadata": {
  "kernelspec": {
   "display_name": "Python 3",
   "language": "python",
   "name": "python3"
  },
  "language_info": {
   "codemirror_mode": {
    "name": "ipython",
    "version": 3
   },
   "file_extension": ".py",
   "mimetype": "text/x-python",
   "name": "python",
   "nbconvert_exporter": "python",
   "pygments_lexer": "ipython3",
   "version": "3.6.5"
  }
 },
 "nbformat": 4,
 "nbformat_minor": 2
}
