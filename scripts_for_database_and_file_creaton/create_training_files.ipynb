{
 "cells": [
  {
   "cell_type": "markdown",
   "metadata": {},
   "source": [
    "This notebook reads annotated data from Excel and creates *txt* files from training and testing."
   ]
  },
  {
   "cell_type": "markdown",
   "metadata": {},
   "source": [
    "Read Spanish data."
   ]
  },
  {
   "cell_type": "code",
   "execution_count": 2,
   "metadata": {},
   "outputs": [],
   "source": [
    "import pandas as pd\n",
    "import numpy as np"
   ]
  },
  {
   "cell_type": "code",
   "execution_count": 4,
   "metadata": {},
   "outputs": [],
   "source": [
    "df = pd.read_excel('../data/ESP.xlsx', sheet_name='esp', header=None)"
   ]
  },
  {
   "cell_type": "code",
   "execution_count": 3,
   "metadata": {},
   "outputs": [
    {
     "data": {
      "text/html": [
       "<div>\n",
       "<style scoped>\n",
       "    .dataframe tbody tr th:only-of-type {\n",
       "        vertical-align: middle;\n",
       "    }\n",
       "\n",
       "    .dataframe tbody tr th {\n",
       "        vertical-align: top;\n",
       "    }\n",
       "\n",
       "    .dataframe thead th {\n",
       "        text-align: right;\n",
       "    }\n",
       "</style>\n",
       "<table border=\"1\" class=\"dataframe\">\n",
       "  <thead>\n",
       "    <tr style=\"text-align: right;\">\n",
       "      <th></th>\n",
       "      <th>id</th>\n",
       "      <th>sentence</th>\n",
       "      <th>polarity</th>\n",
       "    </tr>\n",
       "  </thead>\n",
       "  <tbody>\n",
       "    <tr>\n",
       "      <th>0</th>\n",
       "      <td>es_1004_enquestes_professors_1_1</td>\n",
       "      <td>Es muy dura calificando.</td>\n",
       "      <td>NEGATIVE</td>\n",
       "    </tr>\n",
       "    <tr>\n",
       "      <th>1</th>\n",
       "      <td>es_100_enquestes_professors_2_1</td>\n",
       "      <td>Creo que debería esmerarse un poco más a la ho...</td>\n",
       "      <td>NEGATIVE</td>\n",
       "    </tr>\n",
       "    <tr>\n",
       "      <th>2</th>\n",
       "      <td>es_100_enquestes_professors_2_2</td>\n",
       "      <td>Desmuestra una falta deorganización y seriedad...</td>\n",
       "      <td>NEGATIVE</td>\n",
       "    </tr>\n",
       "    <tr>\n",
       "      <th>3</th>\n",
       "      <td>es_1018_enquestes_professors_1_1</td>\n",
       "      <td>Una de las cosas que me han gustado han sido l...</td>\n",
       "      <td>NEGATIVE</td>\n",
       "    </tr>\n",
       "    <tr>\n",
       "      <th>4</th>\n",
       "      <td>es_1018_enquestes_professors_1_2</td>\n",
       "      <td>Están muy claras y se entiende claramente lo q...</td>\n",
       "      <td>NEGATIVE</td>\n",
       "    </tr>\n",
       "  </tbody>\n",
       "</table>\n",
       "</div>"
      ],
      "text/plain": [
       "                                 id  \\\n",
       "0  es_1004_enquestes_professors_1_1   \n",
       "1   es_100_enquestes_professors_2_1   \n",
       "2   es_100_enquestes_professors_2_2   \n",
       "3  es_1018_enquestes_professors_1_1   \n",
       "4  es_1018_enquestes_professors_1_2   \n",
       "\n",
       "                                            sentence  polarity  \n",
       "0                           Es muy dura calificando.  NEGATIVE  \n",
       "1  Creo que debería esmerarse un poco más a la ho...  NEGATIVE  \n",
       "2  Desmuestra una falta deorganización y seriedad...  NEGATIVE  \n",
       "3  Una de las cosas que me han gustado han sido l...  NEGATIVE  \n",
       "4  Están muy claras y se entiende claramente lo q...  NEGATIVE  "
      ]
     },
     "execution_count": 3,
     "metadata": {},
     "output_type": "execute_result"
    }
   ],
   "source": [
    "esp_data = df[[0,1,2]]\n",
    "esp_data = esp_data.rename(index=str, columns={0: \"id\", 1: \"sentence\", 2 : \"polarity\"})\n",
    "esp_data.head()"
   ]
  },
  {
   "cell_type": "markdown",
   "metadata": {},
   "source": [
    "Save each sentence in one of three folders: \"es_neg\", \"es_pos\" or \"es_neur\"."
   ]
  },
  {
   "cell_type": "code",
   "execution_count": 104,
   "metadata": {},
   "outputs": [],
   "source": [
    "for row in esp_data.values.tolist():\n",
    "    text = row[1]\n",
    "    polarity = row[2]\n",
    "    if polarity == \"NEGATIVE\":\n",
    "        file_name = \"../data/es_neg/\" + row[0] + \".txt\"\n",
    "    if polarity == \"POSITIVE\":\n",
    "        file_name = \"../data/es_pos/\" + row[0] + \".txt\"\n",
    "    if polarity == \"NEUTRAL\":\n",
    "        file_name = \"../data/es_neu/\" + row[0] + \".txt\"\n",
    "    f = open(file_name,\"w\",encoding='utf-8')\n",
    "    f.write(text)\n",
    "    f.close()"
   ]
  },
  {
   "cell_type": "code",
   "execution_count": null,
   "metadata": {},
   "outputs": [],
   "source": []
  },
  {
   "cell_type": "markdown",
   "metadata": {},
   "source": [
    "for english files"
   ]
  },
  {
   "cell_type": "code",
   "execution_count": 4,
   "metadata": {},
   "outputs": [],
   "source": [
    "negids = []\n",
    "posids = []\n",
    "neuids = []\n",
    "for row in esp_data.values.tolist():\n",
    "    file_id = row[0]\n",
    "    polarity = row[2]\n",
    "    if polarity == \"NEGATIVE\":\n",
    "        negids.append(file_id)\n",
    "    if polarity == \"POSITIVE\":\n",
    "        neuids.append(file_id)\n",
    "    if polarity == \"NEUTRAL\":\n",
    "        posids.append(file_id)"
   ]
  },
  {
   "cell_type": "code",
   "execution_count": 6,
   "metadata": {},
   "outputs": [
    {
     "data": {
      "text/plain": [
       "886"
      ]
     },
     "execution_count": 6,
     "metadata": {},
     "output_type": "execute_result"
    }
   ],
   "source": [
    "len(negids)"
   ]
  },
  {
   "cell_type": "code",
   "execution_count": 7,
   "metadata": {},
   "outputs": [
    {
     "data": {
      "text/plain": [
       "136"
      ]
     },
     "execution_count": 7,
     "metadata": {},
     "output_type": "execute_result"
    }
   ],
   "source": [
    "len(posids)"
   ]
  },
  {
   "cell_type": "code",
   "execution_count": 8,
   "metadata": {},
   "outputs": [
    {
     "data": {
      "text/plain": [
       "168"
      ]
     },
     "execution_count": 8,
     "metadata": {},
     "output_type": "execute_result"
    }
   ],
   "source": [
    "len(neuids)"
   ]
  },
  {
   "cell_type": "markdown",
   "metadata": {},
   "source": [
    "Catalan"
   ]
  },
  {
   "cell_type": "code",
   "execution_count": 2,
   "metadata": {},
   "outputs": [],
   "source": [
    "df1 = pd.read_excel('../data/ca_enquestes_assignatures_ALL.xlsx', sheet_name='CAT_assignatures_all_polarity', header=None)"
   ]
  },
  {
   "cell_type": "code",
   "execution_count": 3,
   "metadata": {},
   "outputs": [],
   "source": [
    "df2 = pd.read_excel('../data/ca_enquestes_professors_ALL.xlsx', sheet_name='cat 1000-final', header=None)"
   ]
  },
  {
   "cell_type": "code",
   "execution_count": 7,
   "metadata": {},
   "outputs": [
    {
     "data": {
      "text/html": [
       "<div>\n",
       "<style scoped>\n",
       "    .dataframe tbody tr th:only-of-type {\n",
       "        vertical-align: middle;\n",
       "    }\n",
       "\n",
       "    .dataframe tbody tr th {\n",
       "        vertical-align: top;\n",
       "    }\n",
       "\n",
       "    .dataframe thead th {\n",
       "        text-align: right;\n",
       "    }\n",
       "</style>\n",
       "<table border=\"1\" class=\"dataframe\">\n",
       "  <thead>\n",
       "    <tr style=\"text-align: right;\">\n",
       "      <th></th>\n",
       "      <th>id</th>\n",
       "      <th>sentence</th>\n",
       "      <th>polarity</th>\n",
       "    </tr>\n",
       "  </thead>\n",
       "  <tbody>\n",
       "    <tr>\n",
       "      <th>0</th>\n",
       "      <td>ca_1429_enquestes_assignatures_3_1</td>\n",
       "      <td>Classes teòriques on passem 2 hores mirant un ...</td>\n",
       "      <td>NEGATIVE</td>\n",
       "    </tr>\n",
       "    <tr>\n",
       "      <th>1</th>\n",
       "      <td>ca_1429_enquestes_assignatures_3_2</td>\n",
       "      <td>Examens amb preguntes tipus 'quin és el robot ...</td>\n",
       "      <td>NEGATIVE</td>\n",
       "    </tr>\n",
       "    <tr>\n",
       "      <th>2</th>\n",
       "      <td>ca_1429_enquestes_assignatures_3_3</td>\n",
       "      <td>Les pràctiques, a excepció de la primera part ...</td>\n",
       "      <td>POSITIVE</td>\n",
       "    </tr>\n",
       "    <tr>\n",
       "      <th>3</th>\n",
       "      <td>ca_1429_enquestes_assignatures_3_4</td>\n",
       "      <td>Teoria superficial, a ratos repetitiva i solap...</td>\n",
       "      <td>NEGATIVE</td>\n",
       "    </tr>\n",
       "    <tr>\n",
       "      <th>4</th>\n",
       "      <td>ca_1430_enquestes_assignatures_3_1</td>\n",
       "      <td>Posar les notes de les practiques estaria bast...</td>\n",
       "      <td>NEGATIVE</td>\n",
       "    </tr>\n",
       "  </tbody>\n",
       "</table>\n",
       "</div>"
      ],
      "text/plain": [
       "                                   id  \\\n",
       "0  ca_1429_enquestes_assignatures_3_1   \n",
       "1  ca_1429_enquestes_assignatures_3_2   \n",
       "2  ca_1429_enquestes_assignatures_3_3   \n",
       "3  ca_1429_enquestes_assignatures_3_4   \n",
       "4  ca_1430_enquestes_assignatures_3_1   \n",
       "\n",
       "                                            sentence  polarity  \n",
       "0  Classes teòriques on passem 2 hores mirant un ...  NEGATIVE  \n",
       "1  Examens amb preguntes tipus 'quin és el robot ...  NEGATIVE  \n",
       "2  Les pràctiques, a excepció de la primera part ...  POSITIVE  \n",
       "3  Teoria superficial, a ratos repetitiva i solap...  NEGATIVE  \n",
       "4  Posar les notes de les practiques estaria bast...  NEGATIVE  "
      ]
     },
     "execution_count": 7,
     "metadata": {},
     "output_type": "execute_result"
    }
   ],
   "source": [
    "cat_data_1 = df1[[0,1,2]]\n",
    "cat_data_2 = df2[[0,1,2]]\n",
    "cat_data_1 = cat_data_1.rename(index=str, columns={0: \"id\", 1: \"sentence\", 2 : \"polarity\"})\n",
    "cat_data_2 = cat_data_2.rename(index=str, columns={0: \"id\", 1: \"sentence\", 2 : \"polarity\"})\n",
    "cat_data_1.head()"
   ]
  },
  {
   "cell_type": "code",
   "execution_count": 9,
   "metadata": {},
   "outputs": [],
   "source": [
    "for row in cat_data_1.values.tolist():\n",
    "    text = row[1]\n",
    "    polarity = row[2]\n",
    "    if polarity == \"NEGATIVE\":\n",
    "        file_name = \"../data/ca_neg/\" + row[0] + \".txt\"\n",
    "    if polarity == \"POSITIVE\":\n",
    "        file_name = \"../data/ca_pos/\" + row[0] + \".txt\"\n",
    "    if polarity == \"NEUTRAL\":\n",
    "        file_name = \"../data/ca_neu/\" + row[0] + \".txt\"\n",
    "    f = open(file_name,\"w\",encoding='utf-8')\n",
    "    f.write(text)\n",
    "    f.close()"
   ]
  },
  {
   "cell_type": "code",
   "execution_count": 10,
   "metadata": {},
   "outputs": [],
   "source": [
    "for row in cat_data_2.values.tolist():\n",
    "    text = row[1]\n",
    "    polarity = row[2]\n",
    "    if polarity == \"NEGATIVE\":\n",
    "        file_name = \"../data/ca_neg/\" + row[0] + \".txt\"\n",
    "    if polarity == \"POSITIVE\":\n",
    "        file_name = \"../data/ca_pos/\" + row[0] + \".txt\"\n",
    "    if polarity == \"NEUTRAL\":\n",
    "        file_name = \"../data/ca_neu/\" + row[0] + \".txt\"\n",
    "    f = open(file_name,\"w\",encoding='utf-8')\n",
    "    f.write(text)\n",
    "    f.close()"
   ]
  },
  {
   "cell_type": "code",
   "execution_count": null,
   "metadata": {},
   "outputs": [],
   "source": []
  }
 ],
 "metadata": {
  "kernelspec": {
   "display_name": "Python 3",
   "language": "python",
   "name": "python3"
  },
  "language_info": {
   "codemirror_mode": {
    "name": "ipython",
    "version": 3
   },
   "file_extension": ".py",
   "mimetype": "text/x-python",
   "name": "python",
   "nbconvert_exporter": "python",
   "pygments_lexer": "ipython3",
   "version": "3.6.5"
  }
 },
 "nbformat": 4,
 "nbformat_minor": 2
}
