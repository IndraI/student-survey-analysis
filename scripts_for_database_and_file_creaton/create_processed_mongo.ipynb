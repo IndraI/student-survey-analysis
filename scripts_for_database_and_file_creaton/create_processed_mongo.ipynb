{
 "cells": [
  {
   "cell_type": "markdown",
   "metadata": {},
   "source": [
    "In this notebook I read the original data from MongoDB, and create a new MongoDB with processed data.\n",
    "\n",
    "* annonymization (replace names with placeholder)\n",
    "* splitting comments in sentences\n",
    "* language detection\n"
   ]
  },
  {
   "cell_type": "code",
   "execution_count": 61,
   "metadata": {},
   "outputs": [],
   "source": [
    "import pandas as pd\n",
    "import pymongo\n",
    "\n",
    "from polyglot.text import Text\n",
    "from langdetect import detect\n",
    "from googletrans import Translator\n",
    "translator = Translator()\n",
    "\n",
    "import re\n"
   ]
  },
  {
   "cell_type": "code",
   "execution_count": 62,
   "metadata": {},
   "outputs": [],
   "source": [
    "conn=pymongo.MongoClient()\n",
    "db=conn[\"db_enquestes\"]"
   ]
  },
  {
   "cell_type": "markdown",
   "metadata": {},
   "source": [
    "Annonymization:\n",
    "\n",
    "To replace teacher names, I am taking all the distinct teacher names from the pdf, splitting the names and looking for those names in the comments.\n",
    "\n",
    "For every name I add to search list the name with \"l'\" for example for the name \"ana\" i search for \"ana\" and \"l'ana\".\n",
    "\n",
    "There are a name that has a word \"de\", so I am not searching for that word. Also I removed name \"mas\"."
   ]
  },
  {
   "cell_type": "code",
   "execution_count": 63,
   "metadata": {},
   "outputs": [],
   "source": [
    "db2 = conn[\"db_comments_processed\"]\n",
    "global collection\n",
    "collection = db2.comments_processed"
   ]
  },
  {
   "cell_type": "code",
   "execution_count": 64,
   "metadata": {},
   "outputs": [],
   "source": [
    "teacher_names = db.enquestes_professors.distinct(\"professor\")\n",
    "teacher_names = [item.lower().split() for item in teacher_names]\n",
    "teacher_names = [item for sublist in teacher_names for item in sublist]\n",
    "teacher_names.append(\"anna\")\n",
    "teacher_names.append(\"vitriá\")\n",
    "while 'de' in teacher_names: teacher_names.remove('de')\n",
    "while 'mas' in teacher_names: teacher_names.remove('mas')\n",
    "while \"nin\" in teacher_names: teacher_names.remove(\"nin\")\n",
    "n = []\n",
    "for name in teacher_names:\n",
    "    nn = 'l\\''+name\n",
    "    nc = name+','\n",
    "    n.append(nn)\n",
    "    n.append(nc)\n",
    "teacher_names = teacher_names + n\n",
    "#teacher_names"
   ]
  },
  {
   "cell_type": "code",
   "execution_count": 65,
   "metadata": {},
   "outputs": [
    {
     "name": "stderr",
     "output_type": "stream",
     "text": [
      "Detector is not able to detect the language reliably.\n",
      "Detector is not able to detect the language reliably.\n",
      "Detector is not able to detect the language reliably.\n",
      "Detector is not able to detect the language reliably.\n",
      "Detector is not able to detect the language reliably.\n",
      "Detector is not able to detect the language reliably.\n",
      "Detector is not able to detect the language reliably.\n",
      "Detector is not able to detect the language reliably.\n",
      "Detector is not able to detect the language reliably.\n",
      "Detector is not able to detect the language reliably.\n",
      "Detector is not able to detect the language reliably.\n",
      "Detector is not able to detect the language reliably.\n",
      "Detector is not able to detect the language reliably.\n",
      "Detector is not able to detect the language reliably.\n",
      "Detector is not able to detect the language reliably.\n",
      "Detector is not able to detect the language reliably.\n",
      "Detector is not able to detect the language reliably.\n",
      "Detector is not able to detect the language reliably.\n",
      "Detector is not able to detect the language reliably.\n",
      "Detector is not able to detect the language reliably.\n",
      "Detector is not able to detect the language reliably.\n",
      "Detector is not able to detect the language reliably.\n",
      "Detector is not able to detect the language reliably.\n",
      "Detector is not able to detect the language reliably.\n",
      "Detector is not able to detect the language reliably.\n",
      "Detector is not able to detect the language reliably.\n",
      "Detector is not able to detect the language reliably.\n",
      "Detector is not able to detect the language reliably.\n",
      "Detector is not able to detect the language reliably.\n",
      "Detector is not able to detect the language reliably.\n",
      "Detector is not able to detect the language reliably.\n",
      "Detector is not able to detect the language reliably.\n",
      "Detector is not able to detect the language reliably.\n",
      "Detector is not able to detect the language reliably.\n",
      "Detector is not able to detect the language reliably.\n",
      "Detector is not able to detect the language reliably.\n",
      "Detector is not able to detect the language reliably.\n",
      "Detector is not able to detect the language reliably.\n",
      "Detector is not able to detect the language reliably.\n",
      "Detector is not able to detect the language reliably.\n",
      "Detector is not able to detect the language reliably.\n",
      "Detector is not able to detect the language reliably.\n",
      "Detector is not able to detect the language reliably.\n",
      "Detector is not able to detect the language reliably.\n",
      "Detector is not able to detect the language reliably.\n",
      "Detector is not able to detect the language reliably.\n",
      "Detector is not able to detect the language reliably.\n",
      "Detector is not able to detect the language reliably.\n",
      "Detector is not able to detect the language reliably.\n",
      "Detector is not able to detect the language reliably.\n",
      "Detector is not able to detect the language reliably.\n",
      "Detector is not able to detect the language reliably.\n",
      "Detector is not able to detect the language reliably.\n",
      "Detector is not able to detect the language reliably.\n",
      "Detector is not able to detect the language reliably.\n",
      "Detector is not able to detect the language reliably.\n",
      "Detector is not able to detect the language reliably.\n",
      "Detector is not able to detect the language reliably.\n",
      "Detector is not able to detect the language reliably.\n",
      "Detector is not able to detect the language reliably.\n",
      "Detector is not able to detect the language reliably.\n",
      "Detector is not able to detect the language reliably.\n",
      "Detector is not able to detect the language reliably.\n",
      "Detector is not able to detect the language reliably.\n",
      "Detector is not able to detect the language reliably.\n",
      "Detector is not able to detect the language reliably.\n",
      "Detector is not able to detect the language reliably.\n",
      "Detector is not able to detect the language reliably.\n"
     ]
    }
   ],
   "source": [
    "for elem in db.enquestes_professors.find():\n",
    "    pdf_id = elem['_id']\n",
    "    q1_answers = elem['q1_answers']\n",
    "    for comment in q1_answers:\n",
    "        dict = {}\n",
    "        dict[\"form_type\"] = \"enquestes_professors\"\n",
    "        dict[\"pdf_id\"] = pdf_id\n",
    "        dict[\"question_nr\"] = 1\n",
    "        language = translator.detect(comment).lang\n",
    "        if language == 'espt':\n",
    "            language = 'es'\n",
    "        dict[\"language\"] = language\n",
    "        \n",
    "        ### REPLACE PROFESSOR NAMES WITH \"PROFESSOR_NAME\"\n",
    "        c = comment.split()\n",
    "        c_lower = [x.lower() for x in c]\n",
    "        for name in teacher_names:\n",
    "            if name in c_lower:\n",
    "                ind = c_lower.index(name)\n",
    "                c[ind] = \"PROFESSOR_NAME\"\n",
    "        comment = \" \".join(c)\n",
    "\n",
    "        sents = Text(comment).sentences\n",
    "        sentences = [str(item) for item in sents]\n",
    "        dict[\"sentences\"] = sentences\n",
    "        \n",
    "        collection.insert_one(dict)\n",
    "    \n",
    "    q2_answers = elem['q2_answers']\n",
    "    for comment in q2_answers:\n",
    "        dict = {}\n",
    "        dict[\"form_type\"] = \"enquestes_professors\"\n",
    "        dict[\"pdf_id\"] = pdf_id\n",
    "        dict[\"question_nr\"] = 2\n",
    "        language = translator.detect(comment).lang\n",
    "        if language == 'espt':\n",
    "            language = 'es'\n",
    "        dict[\"language\"] = language\n",
    "        \n",
    "        ### REPLACE PROFESSOR NAMES WITH \"PROFESSOR_NAME\"\n",
    "        c = comment.split()\n",
    "        c_lower = [x.lower() for x in c]\n",
    "        for name in teacher_names:\n",
    "            if name in c_lower:\n",
    "                ind = c_lower.index(name)\n",
    "                c[ind] = \"PROFESSOR_NAME\"\n",
    "        comment = \" \".join(c)\n",
    "\n",
    "        sents = Text(comment).sentences\n",
    "        sentences = [str(item) for item in sents]\n",
    "        dict[\"sentences\"] = sentences\n",
    "        \n",
    "        collection.insert_one(dict)"
   ]
  },
  {
   "cell_type": "code",
   "execution_count": 66,
   "metadata": {},
   "outputs": [
    {
     "data": {
      "text/plain": [
       "['ca', 'es', 'en', 'gl']"
      ]
     },
     "execution_count": 66,
     "metadata": {},
     "output_type": "execute_result"
    }
   ],
   "source": [
    "db2.comments_processed.distinct(\"language\")"
   ]
  },
  {
   "cell_type": "code",
   "execution_count": 75,
   "metadata": {},
   "outputs": [],
   "source": [
    "docs =  db2.comments_processed.find({\"language\": \"gl\"})"
   ]
  },
  {
   "cell_type": "code",
   "execution_count": 76,
   "metadata": {},
   "outputs": [
    {
     "name": "stdout",
     "output_type": "stream",
     "text": [
      "{'_id': ObjectId('5ad9cba52cfaa8fca296aae1'), 'form_type': 'enquestes_professors', 'pdf_id': ObjectId('5ad8db922cfaa8fb4930709a'), 'question_nr': 1, 'language': 'gl', 'sentences': ['Clases amenas e interesantes.']}\n"
     ]
    }
   ],
   "source": [
    "for d in docs:\n",
    "    print(d)"
   ]
  },
  {
   "cell_type": "code",
   "execution_count": null,
   "metadata": {},
   "outputs": [],
   "source": []
  },
  {
   "cell_type": "code",
   "execution_count": 78,
   "metadata": {},
   "outputs": [
    {
     "name": "stdout",
     "output_type": "stream",
     "text": [
      "{'_id': ObjectId('5ad9cb852cfaa8fca296a90c'), 'form_type': 'enquestes_professors', 'pdf_id': ObjectId('5ad8dab62cfaa8fb49307079'), 'question_nr': 2, 'language': 'en', 'sentences': ['Res']}\n",
      "{'_id': ObjectId('5ad9cb892cfaa8fca296a946'), 'form_type': 'enquestes_professors', 'pdf_id': ObjectId('5ad8dacc2cfaa8fb4930707c'), 'question_nr': 2, 'language': 'en', 'sentences': ['PROFESSOR_NAME FOR PRESIDENT']}\n",
      "{'_id': ObjectId('5ad9cb8a2cfaa8fca296a954'), 'form_type': 'enquestes_professors', 'pdf_id': ObjectId('5ad8dad92cfaa8fb4930707e'), 'question_nr': 1, 'language': 'en', 'sentences': ['None']}\n",
      "{'_id': ObjectId('5ad9cb8a2cfaa8fca296a959'), 'form_type': 'enquestes_professors', 'pdf_id': ObjectId('5ad8dad92cfaa8fb4930707e'), 'question_nr': 2, 'language': 'en', 'sentences': ['One of the worst teachers I have had in the career.']}\n",
      "{'_id': ObjectId('5ad9cb8a2cfaa8fca296a960'), 'form_type': 'enquestes_professors', 'pdf_id': ObjectId('5ad8dadf2cfaa8fb4930707f'), 'question_nr': 1, 'language': 'en', 'sentences': ['everything']}\n",
      "{'_id': ObjectId('5ad9cb8a2cfaa8fca296a961'), 'form_type': 'enquestes_professors', 'pdf_id': ObjectId('5ad8dadf2cfaa8fb4930707f'), 'question_nr': 1, 'language': 'en', 'sentences': ['The best teacher of the career.']}\n",
      "{'_id': ObjectId('5ad9cb8b2cfaa8fca296a969'), 'form_type': 'enquestes_professors', 'pdf_id': ObjectId('5ad8dae62cfaa8fb49307080'), 'question_nr': 1, 'language': 'en', 'sentences': ['Very communicative and attentive to the students needs.', 'Lab sessions were particularly useful.']}\n",
      "{'_id': ObjectId('5ad9cb8c2cfaa8fca296a97f'), 'form_type': 'enquestes_professors', 'pdf_id': ObjectId('5ad8daee2cfaa8fb49307081'), 'question_nr': 2, 'language': 'en', 'sentences': [':D']}\n",
      "{'_id': ObjectId('5ad9cb902cfaa8fca296a9b0'), 'form_type': 'enquestes_professors', 'pdf_id': ObjectId('5ad8db042cfaa8fb49307084'), 'question_nr': 2, 'language': 'en', 'sentences': ['cap']}\n",
      "{'_id': ObjectId('5ad9cb932cfaa8fca296a9e6'), 'form_type': 'enquestes_professors', 'pdf_id': ObjectId('5ad8db1e2cfaa8fb49307088'), 'question_nr': 1, 'language': 'en', 'sentences': ['Videos de TED.']}\n",
      "{'_id': ObjectId('5ad9cb982cfaa8fca296aa32'), 'form_type': 'enquestes_professors', 'pdf_id': ObjectId('5ad8db442cfaa8fb4930708e'), 'question_nr': 1, 'language': 'en', 'sentences': ['Cap.']}\n",
      "{'_id': ObjectId('5ad9cb992cfaa8fca296aa40'), 'form_type': 'enquestes_professors', 'pdf_id': ObjectId('5ad8db442cfaa8fb4930708e'), 'question_nr': 2, 'language': 'en', 'sentences': ['Cap']}\n",
      "{'_id': ObjectId('5ad9cb9b2cfaa8fca296aa5c'), 'form_type': 'enquestes_professors', 'pdf_id': ObjectId('5ad8db5c2cfaa8fb49307092'), 'question_nr': 1, 'language': 'en', 'sentences': ['CAP']}\n",
      "{'_id': ObjectId('5ad9cb9e2cfaa8fca296aa80'), 'form_type': 'enquestes_professors', 'pdf_id': ObjectId('5ad8db6a2cfaa8fb49307094'), 'question_nr': 1, 'language': 'en', 'sentences': ['Cap']}\n",
      "{'_id': ObjectId('5ad9cba02cfaa8fca296aa95'), 'form_type': 'enquestes_professors', 'pdf_id': ObjectId('5ad8db722cfaa8fb49307095'), 'question_nr': 2, 'language': 'en', 'sentences': ['Cap.']}\n",
      "{'_id': ObjectId('5ad9cba02cfaa8fca296aa9b'), 'form_type': 'enquestes_professors', 'pdf_id': ObjectId('5ad8db792cfaa8fb49307096'), 'question_nr': 1, 'language': 'en', 'sentences': ['Cap']}\n",
      "{'_id': ObjectId('5ad9cba22cfaa8fca296aaaf'), 'form_type': 'enquestes_professors', 'pdf_id': ObjectId('5ad8db7f2cfaa8fb49307097'), 'question_nr': 2, 'language': 'en', 'sentences': ['Cap']}\n",
      "{'_id': ObjectId('5ad9cba42cfaa8fca296aad1'), 'form_type': 'enquestes_professors', 'pdf_id': ObjectId('5ad8db8b2cfaa8fb49307099'), 'question_nr': 2, 'language': 'en', 'sentences': ['cap']}\n",
      "{'_id': ObjectId('5ad9cba52cfaa8fca296aae3'), 'form_type': 'enquestes_professors', 'pdf_id': ObjectId('5ad8db922cfaa8fb4930709a'), 'question_nr': 2, 'language': 'en', 'sentences': ['Cap.']}\n",
      "{'_id': ObjectId('5ad9cba52cfaa8fca296aae6'), 'form_type': 'enquestes_professors', 'pdf_id': ObjectId('5ad8db922cfaa8fb4930709a'), 'question_nr': 2, 'language': 'en', 'sentences': ['Cap']}\n",
      "{'_id': ObjectId('5ad9cba72cfaa8fca296ab08'), 'form_type': 'enquestes_professors', 'pdf_id': ObjectId('5ad8dbab2cfaa8fb4930709e'), 'question_nr': 1, 'language': 'en', 'sentences': ['Cap']}\n"
     ]
    }
   ],
   "source": [
    "docs =  db2.comments_processed.find({\"language\": \"en\"})\n",
    "for d in docs:\n",
    "    print(d)"
   ]
  },
  {
   "cell_type": "code",
   "execution_count": null,
   "metadata": {},
   "outputs": [],
   "source": []
  }
 ],
 "metadata": {
  "kernelspec": {
   "display_name": "Python 3",
   "language": "python",
   "name": "python3"
  },
  "language_info": {
   "codemirror_mode": {
    "name": "ipython",
    "version": 3
   },
   "file_extension": ".py",
   "mimetype": "text/x-python",
   "name": "python",
   "nbconvert_exporter": "python",
   "pygments_lexer": "ipython3",
   "version": "3.6.5"
  }
 },
 "nbformat": 4,
 "nbformat_minor": 2
}
