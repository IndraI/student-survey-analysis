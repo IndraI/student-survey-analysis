{
 "cells": [
  {
   "cell_type": "markdown",
   "metadata": {},
   "source": [
    "This notebook reads sentiment for each sentence for Excel, and adds an overall sentiment to each comment in MongoDB."
   ]
  },
  {
   "cell_type": "code",
   "execution_count": 1,
   "metadata": {},
   "outputs": [],
   "source": [
    "import pandas as pd\n",
    "import numpy as np\n",
    "import re\n",
    "import pymongo"
   ]
  },
  {
   "cell_type": "code",
   "execution_count": 354,
   "metadata": {},
   "outputs": [],
   "source": [
    "df = pd.read_excel('../data/ESP.xlsx', sheet_name='esp', header=None)"
   ]
  },
  {
   "cell_type": "code",
   "execution_count": 355,
   "metadata": {},
   "outputs": [
    {
     "data": {
      "text/html": [
       "<div>\n",
       "<style scoped>\n",
       "    .dataframe tbody tr th:only-of-type {\n",
       "        vertical-align: middle;\n",
       "    }\n",
       "\n",
       "    .dataframe tbody tr th {\n",
       "        vertical-align: top;\n",
       "    }\n",
       "\n",
       "    .dataframe thead th {\n",
       "        text-align: right;\n",
       "    }\n",
       "</style>\n",
       "<table border=\"1\" class=\"dataframe\">\n",
       "  <thead>\n",
       "    <tr style=\"text-align: right;\">\n",
       "      <th></th>\n",
       "      <th>id</th>\n",
       "      <th>sentence</th>\n",
       "      <th>polarity</th>\n",
       "    </tr>\n",
       "  </thead>\n",
       "  <tbody>\n",
       "    <tr>\n",
       "      <th>0</th>\n",
       "      <td>es_1004_enquestes_professors_1_1</td>\n",
       "      <td>Es muy dura calificando.</td>\n",
       "      <td>NEGATIVE</td>\n",
       "    </tr>\n",
       "    <tr>\n",
       "      <th>1</th>\n",
       "      <td>es_100_enquestes_professors_2_1</td>\n",
       "      <td>Creo que debería esmerarse un poco más a la ho...</td>\n",
       "      <td>NEGATIVE</td>\n",
       "    </tr>\n",
       "    <tr>\n",
       "      <th>2</th>\n",
       "      <td>es_100_enquestes_professors_2_2</td>\n",
       "      <td>Desmuestra una falta deorganización y seriedad...</td>\n",
       "      <td>NEGATIVE</td>\n",
       "    </tr>\n",
       "    <tr>\n",
       "      <th>3</th>\n",
       "      <td>es_1018_enquestes_professors_1_1</td>\n",
       "      <td>Una de las cosas que me han gustado han sido l...</td>\n",
       "      <td>NEGATIVE</td>\n",
       "    </tr>\n",
       "    <tr>\n",
       "      <th>4</th>\n",
       "      <td>es_1018_enquestes_professors_1_2</td>\n",
       "      <td>Están muy claras y se entiende claramente lo q...</td>\n",
       "      <td>NEGATIVE</td>\n",
       "    </tr>\n",
       "  </tbody>\n",
       "</table>\n",
       "</div>"
      ],
      "text/plain": [
       "                                 id  \\\n",
       "0  es_1004_enquestes_professors_1_1   \n",
       "1   es_100_enquestes_professors_2_1   \n",
       "2   es_100_enquestes_professors_2_2   \n",
       "3  es_1018_enquestes_professors_1_1   \n",
       "4  es_1018_enquestes_professors_1_2   \n",
       "\n",
       "                                            sentence  polarity  \n",
       "0                           Es muy dura calificando.  NEGATIVE  \n",
       "1  Creo que debería esmerarse un poco más a la ho...  NEGATIVE  \n",
       "2  Desmuestra una falta deorganización y seriedad...  NEGATIVE  \n",
       "3  Una de las cosas que me han gustado han sido l...  NEGATIVE  \n",
       "4  Están muy claras y se entiende claramente lo q...  NEGATIVE  "
      ]
     },
     "execution_count": 355,
     "metadata": {},
     "output_type": "execute_result"
    }
   ],
   "source": [
    "esp_data = df[[0,1,2]]\n",
    "esp_data = esp_data.rename(index=str, columns={0: \"id\", 1: \"sentence\", 2 : \"polarity\"})\n",
    "esp_data.head()"
   ]
  },
  {
   "cell_type": "code",
   "execution_count": 71,
   "metadata": {},
   "outputs": [],
   "source": [
    "conn=pymongo.MongoClient()\n",
    "db = conn[\"db_comments_processed\"]"
   ]
  },
  {
   "cell_type": "code",
   "execution_count": 356,
   "metadata": {},
   "outputs": [],
   "source": [
    "polarities = {}\n",
    "for row in esp_data.values.tolist():\n",
    "    text = row[1]\n",
    "    polarity = row[2]\n",
    "    polarities[text] = polarity\n"
   ]
  },
  {
   "cell_type": "code",
   "execution_count": 374,
   "metadata": {},
   "outputs": [
    {
     "name": "stderr",
     "output_type": "stream",
     "text": [
      "/Users/indra/anaconda/envs/icutestenv/lib/python3.6/site-packages/ipykernel_launcher.py:20: DeprecationWarning: update is deprecated. Use replace_one, update_one or update_many instead.\n"
     ]
    }
   ],
   "source": [
    "for elem in db.comments_processed.find({},no_cursor_timeout=True):\n",
    "    if elem['language'] == 'es':\n",
    "        p = []\n",
    "        for sentence in elem['sentences']:\n",
    "            p.append(polarities[sentence])\n",
    "        if \"NEGATIVE\" in p and \"POSITIVE\" in p:\n",
    "            if p.count(\"NEGATIVE\") > p.count(\"POSITIVE\"):\n",
    "                sentiment = \"NEGATIVE\"\n",
    "            elif p.count(\"NEGATIVE\")== p.count(\"POSITIVE\"):\n",
    "                sentiment = \"NEUTRAL\"\n",
    "            else:\n",
    "                sentiment = \"POSITIVE\"\n",
    "        elif \"NEGATIVE\" in p:\n",
    "            sentiment = \"NEGATIVE\"\n",
    "        elif \"POSITIVE\" in p:\n",
    "            sentiment = \"POSITIVE\"\n",
    "        else:\n",
    "            sentiment = \"NEUTRAL\"\n",
    "        db.comments_processed.update({\"_id\": elem[\"_id\"]}, {\"$set\":{\"sentiment_polarity\": sentiment}})"
   ]
  },
  {
   "cell_type": "code",
   "execution_count": null,
   "metadata": {},
   "outputs": [],
   "source": []
  },
  {
   "cell_type": "code",
   "execution_count": 25,
   "metadata": {},
   "outputs": [],
   "source": [
    "df1 = pd.read_excel('../data/ca_enquestes_assignatures_ALL.xlsx', sheet_name='CAT_assignatures_all_polarity', header=None)\n",
    "df2 = pd.read_excel('../data/ca_enquestes_professors_ALL.xlsx', sheet_name='cat 1000-final', header=None)"
   ]
  },
  {
   "cell_type": "code",
   "execution_count": 26,
   "metadata": {},
   "outputs": [
    {
     "data": {
      "text/html": [
       "<div>\n",
       "<style scoped>\n",
       "    .dataframe tbody tr th:only-of-type {\n",
       "        vertical-align: middle;\n",
       "    }\n",
       "\n",
       "    .dataframe tbody tr th {\n",
       "        vertical-align: top;\n",
       "    }\n",
       "\n",
       "    .dataframe thead th {\n",
       "        text-align: right;\n",
       "    }\n",
       "</style>\n",
       "<table border=\"1\" class=\"dataframe\">\n",
       "  <thead>\n",
       "    <tr style=\"text-align: right;\">\n",
       "      <th></th>\n",
       "      <th>id</th>\n",
       "      <th>sentence</th>\n",
       "      <th>polarity</th>\n",
       "    </tr>\n",
       "  </thead>\n",
       "  <tbody>\n",
       "    <tr>\n",
       "      <th>0</th>\n",
       "      <td>ca_1429_enquestes_assignatures_3_1</td>\n",
       "      <td>Classes teòriques on passem 2 hores mirant un ...</td>\n",
       "      <td>NEGATIVE</td>\n",
       "    </tr>\n",
       "    <tr>\n",
       "      <th>1</th>\n",
       "      <td>ca_1429_enquestes_assignatures_3_2</td>\n",
       "      <td>Examens amb preguntes tipus 'quin és el robot ...</td>\n",
       "      <td>NEGATIVE</td>\n",
       "    </tr>\n",
       "    <tr>\n",
       "      <th>2</th>\n",
       "      <td>ca_1429_enquestes_assignatures_3_3</td>\n",
       "      <td>Les pràctiques, a excepció de la primera part ...</td>\n",
       "      <td>POSITIVE</td>\n",
       "    </tr>\n",
       "    <tr>\n",
       "      <th>3</th>\n",
       "      <td>ca_1429_enquestes_assignatures_3_4</td>\n",
       "      <td>Teoria superficial, a ratos repetitiva i solap...</td>\n",
       "      <td>NEGATIVE</td>\n",
       "    </tr>\n",
       "    <tr>\n",
       "      <th>4</th>\n",
       "      <td>ca_1430_enquestes_assignatures_3_1</td>\n",
       "      <td>Posar les notes de les practiques estaria bast...</td>\n",
       "      <td>NEGATIVE</td>\n",
       "    </tr>\n",
       "  </tbody>\n",
       "</table>\n",
       "</div>"
      ],
      "text/plain": [
       "                                   id  \\\n",
       "0  ca_1429_enquestes_assignatures_3_1   \n",
       "1  ca_1429_enquestes_assignatures_3_2   \n",
       "2  ca_1429_enquestes_assignatures_3_3   \n",
       "3  ca_1429_enquestes_assignatures_3_4   \n",
       "4  ca_1430_enquestes_assignatures_3_1   \n",
       "\n",
       "                                            sentence  polarity  \n",
       "0  Classes teòriques on passem 2 hores mirant un ...  NEGATIVE  \n",
       "1  Examens amb preguntes tipus 'quin és el robot ...  NEGATIVE  \n",
       "2  Les pràctiques, a excepció de la primera part ...  POSITIVE  \n",
       "3  Teoria superficial, a ratos repetitiva i solap...  NEGATIVE  \n",
       "4  Posar les notes de les practiques estaria bast...  NEGATIVE  "
      ]
     },
     "execution_count": 26,
     "metadata": {},
     "output_type": "execute_result"
    }
   ],
   "source": [
    "cat1_data = df1[[0,1,2]]\n",
    "cat1_data = cat1_data.rename(index=str, columns={0: \"id\", 1: \"sentence\", 2 : \"polarity\"})\n",
    "cat1_data.head()"
   ]
  },
  {
   "cell_type": "code",
   "execution_count": 27,
   "metadata": {},
   "outputs": [
    {
     "data": {
      "text/html": [
       "<div>\n",
       "<style scoped>\n",
       "    .dataframe tbody tr th:only-of-type {\n",
       "        vertical-align: middle;\n",
       "    }\n",
       "\n",
       "    .dataframe tbody tr th {\n",
       "        vertical-align: top;\n",
       "    }\n",
       "\n",
       "    .dataframe thead th {\n",
       "        text-align: right;\n",
       "    }\n",
       "</style>\n",
       "<table border=\"1\" class=\"dataframe\">\n",
       "  <thead>\n",
       "    <tr style=\"text-align: right;\">\n",
       "      <th></th>\n",
       "      <th>id</th>\n",
       "      <th>sentence</th>\n",
       "      <th>polarity</th>\n",
       "    </tr>\n",
       "  </thead>\n",
       "  <tbody>\n",
       "    <tr>\n",
       "      <th>0</th>\n",
       "      <td>ca_1_enquestes_professors_1_1</td>\n",
       "      <td>Les explicacions en les classes de teoria.</td>\n",
       "      <td>POSITIVE</td>\n",
       "    </tr>\n",
       "    <tr>\n",
       "      <th>1</th>\n",
       "      <td>ca_10_enquestes_professors_1_1</td>\n",
       "      <td>Claredat</td>\n",
       "      <td>POSITIVE</td>\n",
       "    </tr>\n",
       "    <tr>\n",
       "      <th>2</th>\n",
       "      <td>ca_1000_enquestes_professors_2_1</td>\n",
       "      <td>Ell no explica, ell arriba a classe i obre un ...</td>\n",
       "      <td>NEGATIVE</td>\n",
       "    </tr>\n",
       "    <tr>\n",
       "      <th>3</th>\n",
       "      <td>ca_1000_enquestes_professors_2_2</td>\n",
       "      <td>Els questionaris estàn mal redactats, les pràc...</td>\n",
       "      <td>NEGATIVE</td>\n",
       "    </tr>\n",
       "    <tr>\n",
       "      <th>4</th>\n",
       "      <td>ca_1000_enquestes_professors_2_3</td>\n",
       "      <td>Ja ho he dit a l'enquesta de l'assignatura: aq...</td>\n",
       "      <td>NEGATIVE</td>\n",
       "    </tr>\n",
       "  </tbody>\n",
       "</table>\n",
       "</div>"
      ],
      "text/plain": [
       "                                 id  \\\n",
       "0     ca_1_enquestes_professors_1_1   \n",
       "1    ca_10_enquestes_professors_1_1   \n",
       "2  ca_1000_enquestes_professors_2_1   \n",
       "3  ca_1000_enquestes_professors_2_2   \n",
       "4  ca_1000_enquestes_professors_2_3   \n",
       "\n",
       "                                            sentence  polarity  \n",
       "0         Les explicacions en les classes de teoria.  POSITIVE  \n",
       "1                                           Claredat  POSITIVE  \n",
       "2  Ell no explica, ell arriba a classe i obre un ...  NEGATIVE  \n",
       "3  Els questionaris estàn mal redactats, les pràc...  NEGATIVE  \n",
       "4  Ja ho he dit a l'enquesta de l'assignatura: aq...  NEGATIVE  "
      ]
     },
     "execution_count": 27,
     "metadata": {},
     "output_type": "execute_result"
    }
   ],
   "source": [
    "cat2_data = df2[[0,1,2]]\n",
    "cat2_data = cat2_data.rename(index=str, columns={0: \"id\", 1: \"sentence\", 2 : \"polarity\"})\n",
    "cat2_data.head()"
   ]
  },
  {
   "cell_type": "code",
   "execution_count": 28,
   "metadata": {},
   "outputs": [],
   "source": [
    "conn=pymongo.MongoClient()\n",
    "db = conn[\"db_comments_processed\"]"
   ]
  },
  {
   "cell_type": "code",
   "execution_count": 29,
   "metadata": {},
   "outputs": [],
   "source": [
    "polarities = {}\n",
    "for row in cat1_data.values.tolist():\n",
    "    text = row[1]\n",
    "    polarity = row[2]\n",
    "    polarities[text] = polarity\n",
    "for row in cat2_data.values.tolist():\n",
    "    text = row[1]\n",
    "    polarity = row[2]\n",
    "    polarities[text] = polarity"
   ]
  },
  {
   "cell_type": "code",
   "execution_count": 31,
   "metadata": {},
   "outputs": [
    {
     "name": "stderr",
     "output_type": "stream",
     "text": [
      "/Users/indra/anaconda/envs/icutestenv/lib/python3.6/site-packages/ipykernel_launcher.py:20: DeprecationWarning: update is deprecated. Use replace_one, update_one or update_many instead.\n"
     ]
    }
   ],
   "source": [
    "for elem in db.comments_processed.find({},no_cursor_timeout=True):\n",
    "    if elem['language'] == 'ca':\n",
    "        p = []\n",
    "        for sentence in elem['sentences']:\n",
    "            if sentence in polarities:\n",
    "                p.append(polarities[sentence])\n",
    "            if \"NEGATIVE\" in p and \"POSITIVE\" in p:\n",
    "                if p.count(\"NEGATIVE\") > p.count(\"POSITIVE\"):\n",
    "                    sentiment = \"NEGATIVE\"\n",
    "                elif p.count(\"NEGATIVE\")== p.count(\"POSITIVE\"):\n",
    "                    sentiment = \"NEUTRAL\"\n",
    "                else:\n",
    "                    sentiment = \"POSITIVE\"\n",
    "            elif \"NEGATIVE\" in p:\n",
    "                sentiment = \"NEGATIVE\"\n",
    "            elif \"POSITIVE\" in p:\n",
    "                sentiment = \"POSITIVE\"\n",
    "            else:\n",
    "                sentiment = \"NEUTRAL\"\n",
    "            db.comments_processed.update({\"_id\": elem[\"_id\"]}, {\"$set\":{\"sentiment_polarity\": sentiment}})"
   ]
  },
  {
   "cell_type": "code",
   "execution_count": null,
   "metadata": {},
   "outputs": [],
   "source": []
  }
 ],
 "metadata": {
  "kernelspec": {
   "display_name": "Python 3",
   "language": "python",
   "name": "python3"
  },
  "language_info": {
   "codemirror_mode": {
    "name": "ipython",
    "version": 3
   },
   "file_extension": ".py",
   "mimetype": "text/x-python",
   "name": "python",
   "nbconvert_exporter": "python",
   "pygments_lexer": "ipython3",
   "version": "3.6.5"
  }
 },
 "nbformat": 4,
 "nbformat_minor": 2
}
